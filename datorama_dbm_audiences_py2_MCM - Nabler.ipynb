{
 "cells": [
  {
   "cell_type": "code",
   "execution_count": 1,
   "metadata": {},
   "outputs": [],
   "source": [
    "'''\n",
    "Alberto Mangones\n",
    "Alberto.Mangones@groupm.com\n",
    "Feb 2019\n",
    " \n",
    "Audience Segment Analysis\n",
    "Filter out only top x based on either CTR, Conversion Rate or Imps vol\n",
    "'''\n",
    "import pandas as pd\n",
    "import os\n",
    "import ftplib\n",
    "from ftplib import FTP\n",
    "import datetime\n",
    "from io import BytesIO, StringIO\n",
    "import datorama"
   ]
  },
  {
   "cell_type": "code",
   "execution_count": 2,
   "metadata": {},
   "outputs": [],
   "source": [
    "#params\n",
    "agency = \"Mediacom\"\n",
    "min_vol = 999\n",
    "ftp_path = '/Insights/Audiences/' + agency\n",
    "ftp_ref = '/Insights/Audiences/Ref'\n",
    "ftp_out_path = '/Insights/Audiences/'+agency+'/Datorama'\n",
    "ftp_pw = 'Ca125XaX'\n",
    "ftp_server = 'analytics.xaxis.com'\n",
    "ftp_user = 'ftp_analyticscanada'\n",
    "f_in_keyword = 'DBM_Audience_Segments_2019_Mediacom' #report name or partial name\n",
    "skip_footer_row_count = 15 # the current report has 15 rows to exclude at the end, update accordingly\n",
    "f_ref_keyword = 'DBM_MCM_Audience_Campaign_Ref' # keywords to pickup reference file from Datorama\n",
    "\n",
    "\n",
    "#Calculating the date of the run\n",
    "date = datetime.datetime.now().strftime(\"%Y-%m-%d\")"
   ]
  },
  {
   "cell_type": "code",
   "execution_count": 4,
   "metadata": {},
   "outputs": [],
   "source": [
    "def get_ftp_file(server_path, ftp_report_name=None, delete_files=False):\n",
    "    \"\"\"Retrieves  file from ftp server and returns it as a blob object.\n",
    "    Args:\n",
    "        server_path - folder where to get the file\n",
    "        ftp_report_name - keywords used in case there are more than one report in the given folder\n",
    "        delete_files - flag to delete files after retrieving\n",
    "    Returns:\n",
    "        blob object\n",
    "    \"\"\"\n",
    "    file_object= BytesIO()\n",
    "    ftp_path = server_path\n",
    "    try:\n",
    "        ftp = FTP(host=ftp_server, user=ftp_user, passwd=ftp_pw)\n",
    "        ftp.cwd(server_path)\n",
    "\n",
    "        # Get list and pick most recent file\n",
    "        ftp_files = ftp.nlst()\n",
    "        if ftp_report_name:\n",
    "            ftp_files = [x for x in ftp_files if ftp_report_name in x]\n",
    "        ftp_files.sort(reverse=True)\n",
    "\n",
    "        if len(ftp_files) > 0:\n",
    "            ftp_file = ftp_files[0]\n",
    "            ftp.retrbinary('RETR ' + ftp_file, file_object.write)\n",
    "            datorama.log(os.getcwd())\n",
    "        else:\n",
    "            # No files to extract\n",
    "            datorama.log(\"No files in ftp folder\")\n",
    "            return None\n",
    "    except ftplib.all_errors:\n",
    "        # Error occured - nothing to do\n",
    "        datorama.log('Spotlight FTP - Unable to access FTP file')\n",
    "        return None\n",
    "\n",
    "    if delete_files:\n",
    "        # Do some cleanup in the ftp folder\n",
    "        ftp_files = ftp.nlst()\n",
    "        for i in ftp_files:\n",
    "            try:\n",
    "                ftp.delete(i)\n",
    "            except ftplib.all_errors:\n",
    "                datorama.log('Unable to delete files from ftp')\n",
    "                pass\n",
    "            \n",
    "    return file_object\n",
    "\n",
    "def put_ftp(server_path, localfile, blob):\n",
    "    \"\"\" Uploads file to ftp server\n",
    "    Args:\n",
    "        server_path - folder where to store the file in the ftp folder\n",
    "        localfile - if the file is stored locally, direct path to file\n",
    "        blob - if the file is in memory, blob pointer to the object\n",
    "    Returns:\n",
    "        None\n",
    "    \"\"\"\n",
    "    ftp = FTP(host=ftp_server, user=ftp_user, passwd=ftp_pw)\n",
    "    ftp.cwd(server_path)\n",
    "    f_name = os.path.basename(localfile)\n",
    "    if blob is None:\n",
    "        with open(localfile, 'rb') as f:\n",
    "            ftp.storbinary('STOR ' + f_name, f)\n",
    "    else:\n",
    "        ftp.storbinary('STOR ' + f_name, blob)\n",
    "    ftp.quit()\n",
    "    \n",
    "# read file\n",
    "#f_in = get_ftp_file(ftp_path, f_in_keyword)\n",
    "df = pd.read_csv(StringIO(f_in.getvalue().decode('utf-8')))"
   ]
  },
  {
   "cell_type": "code",
   "execution_count": 5,
   "metadata": {},
   "outputs": [],
   "source": [
    "# Use this if reading csv \n",
    "#df = pd.read_csv(StringIO(f_in.getvalue().decode('utf-8')))\n",
    "\n",
    "f_in = get_ftp_file(ftp_ref, f_ref_keyword)\n",
    "df_ref = pd.read_csv(StringIO(f_in.getvalue().decode('utf-8')))\n",
    "df_ref = df_ref[['Campaign Name','DBM Campaign Name','SF_Start_Opportunity']]"
   ]
  },
  {
   "cell_type": "code",
   "execution_count": 6,
   "metadata": {},
   "outputs": [],
   "source": [
    "'''\n",
    "Columns:\n",
    "       u'Advertiser Currency', u'Advertiser', u'Insertion Order',\n",
    "       u'Audience List ID', u'Audience List', u'Audience List Type',\n",
    "       u'Impressions', u'Clicks', u'Total Conversions',\n",
    "       u'Complete Views (Video)'\n",
    "'''\n",
    "\n",
    "# Filter out empty lines and lines and are not from DBM\n",
    "df = df[df['Advertiser Currency']=='CAD']\n",
    "df = df[df['Audience List Type'] == 'Bid Manager Audiences']\n",
    "df['Audience List ID'] = df['Audience List ID'].astype(str)\n"
   ]
  },
  {
   "cell_type": "code",
   "execution_count": 7,
   "metadata": {},
   "outputs": [
    {
     "ename": "ValueError",
     "evalue": "Columns must be same length as key",
     "output_type": "error",
     "traceback": [
      "\u001b[1;31m\u001b[0m",
      "\u001b[1;31mValueError\u001b[0mTraceback (most recent call last)",
      "\u001b[1;32m<ipython-input-7-ed7446612b81>\u001b[0m in \u001b[0;36m<module>\u001b[1;34m()\u001b[0m\n\u001b[0;32m      3\u001b[0m \u001b[0mdf\u001b[0m\u001b[1;33m[\u001b[0m\u001b[1;34m'Audience List'\u001b[0m\u001b[1;33m]\u001b[0m \u001b[1;33m=\u001b[0m \u001b[0mdf\u001b[0m\u001b[1;33m[\u001b[0m\u001b[1;34m'Audience List'\u001b[0m\u001b[1;33m]\u001b[0m\u001b[1;33m.\u001b[0m\u001b[0mstr\u001b[0m\u001b[1;33m.\u001b[0m\u001b[0mreplace\u001b[0m\u001b[1;33m(\u001b[0m\u001b[0mseg_keyword\u001b[0m\u001b[1;33m,\u001b[0m \u001b[1;34m''\u001b[0m\u001b[1;33m)\u001b[0m\u001b[1;33m\u001b[0m\u001b[0m\n\u001b[0;32m      4\u001b[0m \u001b[0mcols\u001b[0m \u001b[1;33m=\u001b[0m \u001b[1;33m[\u001b[0m\u001b[1;34m'Type'\u001b[0m\u001b[1;33m,\u001b[0m \u001b[1;34m'T1'\u001b[0m\u001b[1;33m,\u001b[0m \u001b[1;34m'T2'\u001b[0m\u001b[1;33m,\u001b[0m \u001b[1;34m'T3'\u001b[0m\u001b[1;33m,\u001b[0m \u001b[1;34m'T4'\u001b[0m\u001b[1;33m,\u001b[0m \u001b[1;34m'T5'\u001b[0m\u001b[1;33m,\u001b[0m \u001b[1;34m'T6'\u001b[0m\u001b[1;33m]\u001b[0m\u001b[1;33m\u001b[0m\u001b[0m\n\u001b[1;32m----> 5\u001b[1;33m \u001b[0mdf\u001b[0m\u001b[1;33m[\u001b[0m\u001b[0mcols\u001b[0m\u001b[1;33m]\u001b[0m\u001b[1;33m=\u001b[0m \u001b[0mdf\u001b[0m\u001b[1;33m[\u001b[0m\u001b[1;34m'Audience List'\u001b[0m\u001b[1;33m]\u001b[0m\u001b[1;33m.\u001b[0m\u001b[0mstr\u001b[0m\u001b[1;33m.\u001b[0m\u001b[0msplit\u001b[0m\u001b[1;33m(\u001b[0m\u001b[0mpat\u001b[0m\u001b[1;33m=\u001b[0m\u001b[1;34mu'\\xbb\\s+'\u001b[0m\u001b[1;33m,\u001b[0m \u001b[0mexpand\u001b[0m\u001b[1;33m=\u001b[0m\u001b[0mTrue\u001b[0m\u001b[1;33m)\u001b[0m\u001b[1;33m\u001b[0m\u001b[0m\n\u001b[0m\u001b[0;32m      6\u001b[0m \u001b[1;33m\u001b[0m\u001b[0m\n\u001b[0;32m      7\u001b[0m \u001b[1;31m# Get rid of blank spaces\u001b[0m\u001b[1;33m\u001b[0m\u001b[1;33m\u001b[0m\u001b[0m\n",
      "\u001b[1;32mC:\\Users\\adishree.b\\AppData\\Local\\Continuum\\anaconda3\\envs\\py27\\lib\\site-packages\\pandas\\core\\frame.pyc\u001b[0m in \u001b[0;36m__setitem__\u001b[1;34m(self, key, value)\u001b[0m\n\u001b[0;32m   3365\u001b[0m             \u001b[0mself\u001b[0m\u001b[1;33m.\u001b[0m\u001b[0m_setitem_frame\u001b[0m\u001b[1;33m(\u001b[0m\u001b[0mkey\u001b[0m\u001b[1;33m,\u001b[0m \u001b[0mvalue\u001b[0m\u001b[1;33m)\u001b[0m\u001b[1;33m\u001b[0m\u001b[0m\n\u001b[0;32m   3366\u001b[0m         \u001b[1;32melif\u001b[0m \u001b[0misinstance\u001b[0m\u001b[1;33m(\u001b[0m\u001b[0mkey\u001b[0m\u001b[1;33m,\u001b[0m \u001b[1;33m(\u001b[0m\u001b[0mSeries\u001b[0m\u001b[1;33m,\u001b[0m \u001b[0mnp\u001b[0m\u001b[1;33m.\u001b[0m\u001b[0mndarray\u001b[0m\u001b[1;33m,\u001b[0m \u001b[0mlist\u001b[0m\u001b[1;33m,\u001b[0m \u001b[0mIndex\u001b[0m\u001b[1;33m)\u001b[0m\u001b[1;33m)\u001b[0m\u001b[1;33m:\u001b[0m\u001b[1;33m\u001b[0m\u001b[0m\n\u001b[1;32m-> 3367\u001b[1;33m             \u001b[0mself\u001b[0m\u001b[1;33m.\u001b[0m\u001b[0m_setitem_array\u001b[0m\u001b[1;33m(\u001b[0m\u001b[0mkey\u001b[0m\u001b[1;33m,\u001b[0m \u001b[0mvalue\u001b[0m\u001b[1;33m)\u001b[0m\u001b[1;33m\u001b[0m\u001b[0m\n\u001b[0m\u001b[0;32m   3368\u001b[0m         \u001b[1;32melse\u001b[0m\u001b[1;33m:\u001b[0m\u001b[1;33m\u001b[0m\u001b[0m\n\u001b[0;32m   3369\u001b[0m             \u001b[1;31m# set column\u001b[0m\u001b[1;33m\u001b[0m\u001b[1;33m\u001b[0m\u001b[0m\n",
      "\u001b[1;32mC:\\Users\\adishree.b\\AppData\\Local\\Continuum\\anaconda3\\envs\\py27\\lib\\site-packages\\pandas\\core\\frame.pyc\u001b[0m in \u001b[0;36m_setitem_array\u001b[1;34m(self, key, value)\u001b[0m\n\u001b[0;32m   3387\u001b[0m             \u001b[1;32mif\u001b[0m \u001b[0misinstance\u001b[0m\u001b[1;33m(\u001b[0m\u001b[0mvalue\u001b[0m\u001b[1;33m,\u001b[0m \u001b[0mDataFrame\u001b[0m\u001b[1;33m)\u001b[0m\u001b[1;33m:\u001b[0m\u001b[1;33m\u001b[0m\u001b[0m\n\u001b[0;32m   3388\u001b[0m                 \u001b[1;32mif\u001b[0m \u001b[0mlen\u001b[0m\u001b[1;33m(\u001b[0m\u001b[0mvalue\u001b[0m\u001b[1;33m.\u001b[0m\u001b[0mcolumns\u001b[0m\u001b[1;33m)\u001b[0m \u001b[1;33m!=\u001b[0m \u001b[0mlen\u001b[0m\u001b[1;33m(\u001b[0m\u001b[0mkey\u001b[0m\u001b[1;33m)\u001b[0m\u001b[1;33m:\u001b[0m\u001b[1;33m\u001b[0m\u001b[0m\n\u001b[1;32m-> 3389\u001b[1;33m                     \u001b[1;32mraise\u001b[0m \u001b[0mValueError\u001b[0m\u001b[1;33m(\u001b[0m\u001b[1;34m'Columns must be same length as key'\u001b[0m\u001b[1;33m)\u001b[0m\u001b[1;33m\u001b[0m\u001b[0m\n\u001b[0m\u001b[0;32m   3390\u001b[0m                 \u001b[1;32mfor\u001b[0m \u001b[0mk1\u001b[0m\u001b[1;33m,\u001b[0m \u001b[0mk2\u001b[0m \u001b[1;32min\u001b[0m \u001b[0mzip\u001b[0m\u001b[1;33m(\u001b[0m\u001b[0mkey\u001b[0m\u001b[1;33m,\u001b[0m \u001b[0mvalue\u001b[0m\u001b[1;33m.\u001b[0m\u001b[0mcolumns\u001b[0m\u001b[1;33m)\u001b[0m\u001b[1;33m:\u001b[0m\u001b[1;33m\u001b[0m\u001b[0m\n\u001b[0;32m   3391\u001b[0m                     \u001b[0mself\u001b[0m\u001b[1;33m[\u001b[0m\u001b[0mk1\u001b[0m\u001b[1;33m]\u001b[0m \u001b[1;33m=\u001b[0m \u001b[0mvalue\u001b[0m\u001b[1;33m[\u001b[0m\u001b[0mk2\u001b[0m\u001b[1;33m]\u001b[0m\u001b[1;33m\u001b[0m\u001b[0m\n",
      "\u001b[1;31mValueError\u001b[0m: Columns must be same length as key"
     ]
    }
   ],
   "source": [
    "# Clean Up Audience Lists\n",
    "seg_keyword = r'Display & Video 360 Audiences \\xbb '\n",
    "df['Audience List'] = df['Audience List'].str.replace(seg_keyword, '')\n",
    "cols = ['Type', 'T1', 'T2', 'T3', 'T4', 'T5', 'T6']\n",
    "df[cols]= df['Audience List'].str.split(pat=u'\\xbb\\s+', expand=True)\n",
    "\n",
    "# Get rid of blank spaces\n",
    "for t in cols:\n",
    "    df[t] = df[t].str.strip()\n",
    "    \n",
    "# Further aggregate from T1-T3\n",
    "df['T2'] = df.T2.fillna(' ', axis=0)\n",
    "df['T3'] = df.T3.fillna(' ', axis=0)\n",
    "df['T4'] = ''\n",
    "df['T5'] = ''\n",
    "df['T6'] = ''"
   ]
  },
  {
   "cell_type": "code",
   "execution_count": null,
   "metadata": {},
   "outputs": [],
   "source": [
    "df.head()"
   ]
  },
  {
   "cell_type": "code",
   "execution_count": null,
   "metadata": {},
   "outputs": [],
   "source": [
    "# Merging with the ref df\n",
    "#join with audience data\n",
    "df = pd.merge(df, df_ref, how='left', right_on='Campaign Name', left_on='Insertion Order')\n",
    "start_date = df.sample()['SF_Start_Opportunity'].tolist()[0]\n",
    "campaign_name = df.sample()['DBM Campaign Name'].tolist()[0]"
   ]
  },
  {
   "cell_type": "code",
   "execution_count": null,
   "metadata": {},
   "outputs": [],
   "source": [
    "group_by_cols = ['Advertiser','Campaign Name', 'Type','T1','T2','T3']\n",
    "dfg = df.groupby(group_by_cols, as_index=False).sum()\n",
    "dfg['T2'] = dfg['T2'].str.title()\n",
    "dfg['Audience List ID'] = dfg.index.astype(str)\n",
    "dfg['Audience Name'] = dfg.Type +'_' + dfg.T1+'_' + dfg.T2 + '_' + dfg.T3"
   ]
  },
  {
   "cell_type": "code",
   "execution_count": null,
   "metadata": {},
   "outputs": [],
   "source": [
    "# Handling negative values for Impressions, Clicks\n",
    "dfg['Impressions'] = dfg.Impressions.apply(lambda x: max(0, x))\n",
    "dfg['Clicks'] = dfg.Clicks.apply(lambda x: max(0, x))\n",
    "\n",
    "# Get rid of low volume segments\n",
    "dfg = dfg[dfg.Impressions > min_vol]\n",
    "\n",
    "# Add the Salesforce Opportunity Start Date for reference\n",
    "dfg['Date'] = start_date\n",
    "dfg.rename(columns={'Campaign Name':'Campaign'}, inplace=True)\n",
    "\n",
    "csv_string = dfg.to_csv(index=False)\n",
    "df_blob = StringIO(csv_string.decode())\n",
    "ftp_out_file = campaign_name + '.csv'"
   ]
  },
  {
   "cell_type": "code",
   "execution_count": null,
   "metadata": {},
   "outputs": [],
   "source": [
    "print(df_blob)"
   ]
  },
  {
   "cell_type": "code",
   "execution_count": null,
   "metadata": {},
   "outputs": [],
   "source": [
    "put_ftp(ftp_out_path, ftp_out_file, df_blob)"
   ]
  },
  {
   "cell_type": "code",
   "execution_count": null,
   "metadata": {},
   "outputs": [],
   "source": [
    "# To save locally uncomment the code below\n",
    "env = os.environ.get('HOMEPATH')\n",
    "local_filename = os.path.os.path.join(env, campaign_name+'.csv')\n",
    "dfg.to_csv(local_filename, index=False)\n"
   ]
  },
  {
   "cell_type": "code",
   "execution_count": null,
   "metadata": {},
   "outputs": [],
   "source": [
    "print(pd.read_excel)"
   ]
  },
  {
   "cell_type": "code",
   "execution_count": null,
   "metadata": {},
   "outputs": [],
   "source": [
    "print(os.environ)"
   ]
  },
  {
   "cell_type": "code",
   "execution_count": null,
   "metadata": {},
   "outputs": [],
   "source": [
    "dfg.to_csv(r'C:\\\\Users\\\\adishree.b\\\\Downloads\\\\checkfile.csv', index=False)"
   ]
  },
  {
   "cell_type": "code",
   "execution_count": null,
   "metadata": {},
   "outputs": [],
   "source": []
  }
 ],
 "metadata": {
  "kernelspec": {
   "display_name": "Python 2",
   "language": "python",
   "name": "python2"
  },
  "language_info": {
   "codemirror_mode": {
    "name": "ipython",
    "version": 2
   },
   "file_extension": ".py",
   "mimetype": "text/x-python",
   "name": "python",
   "nbconvert_exporter": "python",
   "pygments_lexer": "ipython2",
   "version": "2.7.16"
  }
 },
 "nbformat": 4,
 "nbformat_minor": 2
}
